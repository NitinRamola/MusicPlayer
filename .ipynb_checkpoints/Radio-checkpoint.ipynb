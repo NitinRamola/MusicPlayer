{
 "cells": [
  {
   "cell_type": "code",
   "execution_count": 2,
   "metadata": {},
   "outputs": [],
   "source": [
    "from tkinter import *\n",
    "from pygame import mixer\n",
    "\n",
    "#creating a frame/window\n",
    "window = Tk()\n",
    "\n",
    "#initializing mixer\n",
    "mixer.init()\n",
    "\n",
    "#adding title\n",
    "window.geometry('450x420')\n",
    "window.title(\"RadioPlayer\")\n",
    "window.iconbitmap(r'C:\\Users\\ramola\\Desktop\\Python\\Projects\\MediaPlayer\\img\\tower.ico')\n",
    "\n",
    "#adding label\n",
    "text= Label(window,text=\"Radio : Enjoy it !\")\n",
    "text.pack()\n",
    "\n",
    "def play_btn():\n",
    "    mixer.music.load(r\"C:\\Users\\ramola\\Desktop\\Python\\Projects\\MediaPlayer\\Songs\\Daryaa1.mp3\")\n",
    "    mixer.music.play()\n",
    "    print(\"this is working fine\")\n",
    "    \n",
    "def pause_btn():\n",
    "    mixer.music.pause()\n",
    "    \n",
    "def set_volume(val):\n",
    "    volume = int(val)/100\n",
    "    mixer.music.set_volume(volume)\n",
    "    \n",
    "    \n",
    "#adding play button \n",
    "playphoto = PhotoImage(file='C:\\\\Users\\\\ramola\\\\Desktop\\\\Python\\\\Projects\\\\MediaPlayer\\\\img\\\\play.png')\n",
    "playbtn = Button (window, image = playphoto,command = play_btn)\n",
    "playbtn.pack()\n",
    "\n",
    "#adding pause button\n",
    "pausephoto = PhotoImage(file='C:\\\\Users\\\\ramola\\\\Desktop\\\\Python\\\\Projects\\\\MediaPlayer\\\\img\\\\pausep.png')\n",
    "pausebtn = Button(window,image =pausephoto,command =pause_btn)\n",
    "pausebtn.pack()\n",
    "\n",
    "#Creating a scale widget\n",
    "scale = Scale(window,from_=0, to =100, orient=HORIZONTAL,command = set_volume)\n",
    "scale.pack()\n",
    "\n",
    "#looping the window to appear for infinite time until user kills it.\n",
    "window.mainloop()\n",
    "\n"
   ]
  }
 ],
 "metadata": {
  "kernelspec": {
   "display_name": "Python 3",
   "language": "python",
   "name": "python3"
  },
  "language_info": {
   "codemirror_mode": {
    "name": "ipython",
    "version": 3
   },
   "file_extension": ".py",
   "mimetype": "text/x-python",
   "name": "python",
   "nbconvert_exporter": "python",
   "pygments_lexer": "ipython3",
   "version": "3.6.5"
  }
 },
 "nbformat": 4,
 "nbformat_minor": 2
}
